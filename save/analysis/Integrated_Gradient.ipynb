{
 "cells": [
  {
   "cell_type": "markdown",
   "metadata": {},
   "source": [
    "# Model Interpretation for Pretrained ResNet Model"
   ]
  },
  {
   "cell_type": "markdown",
   "metadata": {},
   "source": [
    "This notebook demonstrates how to apply model interpretability algorithms on pretrained ResNet model using a handpicked image and visualizes the attributions for each pixel by overlaying them on the image.\n",
    "\n",
    "The interpretation algorithms that we use in this notebook are `Integrated Gradients` (w/ and w/o noise tunnel),  `GradientShap`, and `Occlusion`. A noise tunnel allows to smoothen the attributions after adding gaussian noise to each input sample.\n",
    "  \n",
    "  **Note:** Before running this tutorial, please install the torchvision, PIL, and matplotlib packages."
   ]
  },
  {
   "cell_type": "code",
   "execution_count": 13,
   "metadata": {},
   "outputs": [],
   "source": [
    "import torch\n",
    "import torch.nn.functional as F\n",
    "\n",
    "from PIL import Image\n",
    "\n",
    "import os\n",
    "import json\n",
    "import numpy as np\n",
    "from matplotlib.colors import LinearSegmentedColormap\n",
    "import matplotlib.pyplot as plt\n",
    "\n",
    "import argparse\n",
    "from torchvision import models\n",
    "from torchvision import transforms\n",
    "from torchvision import datasets\n",
    "from torch.utils.data import DataLoader\n",
    "\n",
    "from captum.attr import IntegratedGradients\n",
    "from captum.attr import GradientShap\n",
    "from captum.attr import Occlusion\n",
    "from captum.attr import NoiseTunnel\n",
    "from captum.attr import visualization as viz\n",
    "import sys\n",
    "import torch.nn as nn\n",
    "sys.path.append(os.path.dirname(os.path.dirname(os.path.abspath('')))+'/src')\n",
    "from dataset.celeba import CelebADataset"
   ]
  },
  {
   "cell_type": "markdown",
   "metadata": {},
   "source": [
    "## 1- Loading the model and the dataset\n"
   ]
  },
  {
   "cell_type": "markdown",
   "metadata": {},
   "source": [
    "Loads pretrained Resnet model and sets it to eval mode"
   ]
  },
  {
   "cell_type": "code",
   "execution_count": 25,
   "metadata": {},
   "outputs": [],
   "source": [
    "model_seperate = models.resnet18(num_classes=2)\n",
    "model_seperate.load_state_dict(torch.load('../models/celeba/seperate_more_bias_100.pt'))\n",
    "model_seperate = model_seperate.eval()\n",
    "\n",
    "model_iid = models.resnet18(num_classes=2)\n",
    "model_iid.load_state_dict(torch.load('../models/celeba/iid_more_bias_100.pt'))\n",
    "model_iid = model_iid.eval()"
   ]
  },
  {
   "cell_type": "code",
   "execution_count": 26,
   "metadata": {},
   "outputs": [],
   "source": [
    "def get_dataset(target_column:str, protected_variable:str):\n",
    "    dir = '../../data/celebA/celeba-resized'\n",
    "\n",
    "    apply_transform_train = transforms.Compose(\n",
    "        [transforms.RandomHorizontalFlip(),\n",
    "            transforms.ToTensor(),\n",
    "            transforms.Normalize((0.5, 0.5, 0.5),\n",
    "                                (0.5, 0.5, 0.5)),\n",
    "                                ]\n",
    "    )\n",
    "\n",
    "    apply_transform_test = transforms.Compose(\n",
    "        [transforms.ToTensor(),\n",
    "            transforms.Normalize((0.5, 0.5, 0.5),\n",
    "                                (0.5, 0.5, 0.5)),\n",
    "                                ]\n",
    "    )\n",
    "    train_dataset = CelebADataset(dir, target_column, protected_variable, bias_level=0, transform=apply_transform_train, split='train')\n",
    "    test_dataset = CelebADataset(dir, target_column, protected_variable, bias_level=0, transform=apply_transform_test, split='test')\n",
    "    \n",
    "    return train_dataset, test_dataset"
   ]
  },
  {
   "cell_type": "code",
   "execution_count": 27,
   "metadata": {},
   "outputs": [],
   "source": [
    "_, test_dataset = get_dataset(target_column='Smiling', protected_variable='Male')"
   ]
  },
  {
   "cell_type": "code",
   "execution_count": 110,
   "metadata": {},
   "outputs": [
    {
     "name": "stderr",
     "output_type": "stream",
     "text": [
      "Clipping input data to the valid range for imshow with RGB data ([0..1] for floats or [0..255] for integers).\n"
     ]
    },
    {
     "name": "stdout",
     "output_type": "stream",
     "text": [
      "0\n",
      "140\n",
      "Predicted: tensor([0, 1]) ( tensor([0.9089, 0.0911], grad_fn=<SqueezeBackward0>) )\n",
      "Predicted: tensor([1, 0]) ( tensor([0.9260, 0.0740], grad_fn=<SqueezeBackward0>) )\n"
     ]
    },
    {
     "data": {
      "image/png": "[encoded data removed]",
      "text/plain": [
       "<Figure size 432x288 with 1 Axes>"
      ]
     },
     "metadata": {
      "needs_background": "light"
     },
     "output_type": "display_data"
    }
   ],
   "source": [
    "for index in range(110, 20000):\n",
    "    input, label = test_dataset[index]\n",
    "    plt.axis('off')\n",
    "    output_seperate = model_seperate(input.unsqueeze(0))\n",
    "    output_seperate = F.softmax(output_seperate, dim=1)\n",
    "    output_iid = model_iid(input.unsqueeze(0))\n",
    "    output_iid = F.softmax(output_iid, dim=1)\n",
    "    _, pred1 = torch.max(output_seperate.detach(), 1)\n",
    "    _, pred2 = torch.max(output_iid.detach(), 1)\n",
    "    if label == pred1 and label != pred2:\n",
    "        print(label)\n",
    "        plt.imshow(input.permute(1,2,0))\n",
    "        print(index)\n",
    "        prediction_score_seperate, predicted_label_seperate = torch.topk(output_seperate, 2)\n",
    "        prediction_scoreiid, predicted_label_iid = torch.topk(output_iid, 2)\n",
    "        predicted_label_seperate.squeeze_()\n",
    "        predicted_label_iid.squeeze_()\n",
    "        print('Predicted:', predicted_label_seperate, '(', prediction_score_seperate.squeeze(), ')')\n",
    "        print('Predicted:', predicted_label_iid, '(', prediction_scoreiid.squeeze(), ')')\n",
    "        break"
   ]
  },
  {
   "cell_type": "markdown",
   "metadata": {},
   "source": [
    "## 2- Gradient-based attribution"
   ]
  },
  {
   "cell_type": "markdown",
   "metadata": {},
   "source": [
    "Let's compute attributions using Integrated Gradients and visualize them on the image. Integrated gradients computes the integral of the gradients of the output of the model for the predicted class `pred_label_idx` with respect to the input image pixels along the path from the black image to our input image."
   ]
  },
  {
   "cell_type": "code",
   "execution_count": 117,
   "metadata": {},
   "outputs": [],
   "source": [
    "model = model_iid\n",
    "predicted_label = predicted_label_iid\n",
    "# print('Predicted:', predicted_label, '(', prediction_score.squeeze().item(), ')')\n",
    "\n",
    "integrated_gradients = IntegratedGradients(model)\n",
    "# attributions_ig = integrated_gradients.attribute(input.unsqueeze(0), target=predicted_label, n_steps=200)\n",
    "attributions_ig = integrated_gradients.attribute(input.unsqueeze(0), target=predicted_label[0], n_steps=200)"
   ]
  },
  {
   "cell_type": "markdown",
   "metadata": {},
   "source": [
    "Let's visualize the image and corresponding attributions by overlaying the latter on the image."
   ]
  },
  {
   "cell_type": "code",
   "execution_count": 118,
   "metadata": {},
   "outputs": [],
   "source": [
    "default_cmap = LinearSegmentedColormap.from_list('custom blue', \n",
    "                                                 [(0, '#ffffff'),\n",
    "                                                  (0.25, '#000000'),\n",
    "                                                  (1, '#000000')], N=256)\n",
    "# _ = viz.visualize_image_attr(np.transpose(attributions_ig.squeeze().cpu().detach().numpy(), (1,2,0)),\n",
    "#                              np.transpose(input.squeeze().cpu().detach().numpy(), (1,2,0)),\n",
    "#                              method='heat_map',\n",
    "#                              cmap=default_cmap,\n",
    "#                              show_colorbar=True,\n",
    "#                              sign='positive',\n",
    "#                              outlier_perc=1)"
   ]
  },
  {
   "cell_type": "markdown",
   "metadata": {},
   "source": [
    "Let us compute attributions using Integrated Gradients and smoothens them across multiple images generated by a <em>noise tunnel</em>. The latter adds gaussian noise with a std equals to one, 10 times (nt_samples=10) to the input. Ultimately, noise tunnel smoothens the attributions across `nt_samples` noisy samples using `smoothgrad_sq` technique. `smoothgrad_sq` represents the mean of the squared attributions across `nt_samples` samples."
   ]
  },
  {
   "cell_type": "code",
   "execution_count": 119,
   "metadata": {},
   "outputs": [
    {
     "data": {
      "image/png": "[encoded data removed]",
      "text/plain": [
       "<Figure size 576x432 with 4 Axes>"
      ]
     },
     "metadata": {
      "needs_background": "light"
     },
     "output_type": "display_data"
    }
   ],
   "source": [
    "noise_tunnel = NoiseTunnel(integrated_gradients)\n",
    "\n",
    "# attributions_ig_nt = noise_tunnel.attribute(input.unsqueeze(0), nt_samples=10, nt_type='smoothgrad_sq', target=predicted_label)\n",
    "\n",
    "attributions_ig_nt = noise_tunnel.attribute(input.unsqueeze(0), nt_samples=10, nt_type='smoothgrad_sq', target=predicted_label[0])\n",
    "\n",
    "_ = viz.visualize_image_attr_multiple(np.transpose(attributions_ig_nt.squeeze().cpu().detach().numpy(), (1,2,0)),\n",
    "                                      np.transpose(input.squeeze().cpu().detach().numpy(), (1,2,0)),\n",
    "                                      [\"original_image\", \"blended_heat_map\"],\n",
    "                                      [\"all\", \"positive\"],\n",
    "                                      cmap=default_cmap,\n",
    "                                      show_colorbar=True,\n",
    "                                      alpha_overlay=0.7\n",
    "                                      )\n"
   ]
  },
  {
   "cell_type": "markdown",
   "metadata": {},
   "source": [
    "Finally, let us use `GradientShap`, a linear explanation model which uses a distribution of reference samples (in this case two images) to explain predictions of the model. It computes the expectation of gradients for an input which was chosen randomly between the input and a baseline. The baseline is also chosen randomly from given baseline distribution."
   ]
  },
  {
   "cell_type": "code",
   "execution_count": 39,
   "metadata": {},
   "outputs": [],
   "source": [
    "# torch.manual_seed(0)\n",
    "# np.random.seed(0)\n",
    "\n",
    "# gradient_shap = GradientShap(model)\n",
    "\n",
    "# # Defining baseline distribution of images\n",
    "# rand_img_dist = torch.cat([input.unsqueeze(0) * 0, input.unsqueeze(0) * 1])\n",
    "\n",
    "# attributions_gs = gradient_shap.attribute(input.unsqueeze(0),\n",
    "#                                           n_samples=40,\n",
    "#                                           stdevs=0.0001,\n",
    "#                                           baselines=rand_img_dist,\n",
    "#                                           target=predicted_label)\n",
    "# _ = viz.visualize_image_attr_multiple(np.transpose(attributions_gs.squeeze().cpu().detach().numpy(), (1,2,0)),\n",
    "#                                       np.transpose(input.squeeze().cpu().detach().numpy(), (1,2,0)),\n",
    "#                                       [\"original_image\", \"heat_map\"],\n",
    "#                                       [\"all\", \"absolute_value\"],\n",
    "#                                       cmap=default_cmap,\n",
    "#                                       show_colorbar=True)\n"
   ]
  },
  {
   "cell_type": "markdown",
   "metadata": {},
   "source": [
    "## 3- Occlusion-based attribution"
   ]
  },
  {
   "cell_type": "markdown",
   "metadata": {},
   "source": [
    "Now let us try a different approach to attribution. We can estimate which areas of the image are critical for the classifier's decision by occluding them and quantifying how the decision changes.\n",
    "\n",
    "We run a sliding window of size 15x15 (defined via `sliding_window_shapes`) with a stride of 8 along both image dimensions (a defined via `strides`). At each location, we occlude the image with a baseline value of 0 which correspondes to a gray patch (defined via `baselines`).\n",
    "\n",
    "**Note:** this computation might take more than one minute to complete, as the model is evaluated at every position of the sliding window."
   ]
  },
  {
   "cell_type": "code",
   "execution_count": 88,
   "metadata": {},
   "outputs": [],
   "source": [
    "# occlusion = Occlusion(model)\n",
    "\n",
    "# attributions_occ = occlusion.attribute(input,\n",
    "#                                        strides = (3, 8, 8),\n",
    "#                                        target=pred_label_idx,\n",
    "#                                        sliding_window_shapes=(3,15, 15),\n",
    "#                                        baselines=0)\n"
   ]
  },
  {
   "cell_type": "markdown",
   "metadata": {},
   "source": [
    "Let us visualize the attribution, focusing on the areas with positive attribution (those that are critical for the classifier's decision):"
   ]
  },
  {
   "cell_type": "code",
   "execution_count": 89,
   "metadata": {
    "scrolled": false
   },
   "outputs": [],
   "source": [
    "# _ = viz.visualize_image_attr_multiple(np.transpose(attributions_occ.squeeze().cpu().detach().numpy(), (1,2,0)),\n",
    "#                                       np.transpose(transformed_img.squeeze().cpu().detach().numpy(), (1,2,0)),\n",
    "#                                       [\"original_image\", \"heat_map\"],\n",
    "#                                       [\"all\", \"positive\"],\n",
    "#                                       show_colorbar=True,\n",
    "#                                       outlier_perc=2,\n",
    "#                                      )\n"
   ]
  },
  {
   "cell_type": "markdown",
   "metadata": {},
   "source": [
    "The upper part of the goose, especially the beak, seems to be the most critical for the model to predict this class.\n",
    "\n",
    "We can verify this further by occluding the image using a larger sliding window:"
   ]
  },
  {
   "cell_type": "code",
   "execution_count": 90,
   "metadata": {},
   "outputs": [],
   "source": [
    "# occlusion = Occlusion(model)\n",
    "\n",
    "# attributions_occ = occlusion.attribute(input,\n",
    "#                                        strides = (3, 50, 50),\n",
    "#                                        target=pred_label_idx,\n",
    "#                                        sliding_window_shapes=(3,60, 60),\n",
    "#                                        baselines=0)\n",
    "\n",
    "# _ = viz.visualize_image_attr_multiple(np.transpose(attributions_occ.squeeze().cpu().detach().numpy(), (1,2,0)),\n",
    "#                                       np.transpose(transformed_img.squeeze().cpu().detach().numpy(), (1,2,0)),\n",
    "#                                       [\"original_image\", \"heat_map\"],\n",
    "#                                       [\"all\", \"positive\"],\n",
    "#                                       show_colorbar=True,\n",
    "#                                       outlier_perc=2,\n",
    "#                                      )"
   ]
  }
 ],
 "metadata": {
  "kernelspec": {
   "display_name": "Python 3",
   "language": "python",
   "name": "python3"
  },
  "language_info": {
   "codemirror_mode": {
    "name": "ipython",
    "version": 3
   },
   "file_extension": ".py",
   "mimetype": "text/x-python",
   "name": "python",
   "nbconvert_exporter": "python",
   "pygments_lexer": "ipython3",
   "version": "3.6.9"
  }
 },
 "nbformat": 4,
 "nbformat_minor": 2
}
